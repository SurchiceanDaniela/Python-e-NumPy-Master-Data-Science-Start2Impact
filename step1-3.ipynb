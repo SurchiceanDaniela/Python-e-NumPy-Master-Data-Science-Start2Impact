{
 "cells": [
  {
   "cell_type": "markdown",
   "metadata": {},
   "source": [
    "**Step 1**\n",
    "\n",
    "Script Python che itera in ordine alfabetico sui file della cartella files e, a seconda del tipo (audio, documento, immagine), li sposti nella relativa sottocartella (qui sotto trovi un esempio). \n",
    "Se la sottocartella non esiste, il tuo script dovrà crearla automaticamente.\n",
    "\n",
    "Durante il ciclo, lo script deve stampare le informazioni dei file: nome, tipo e dimensione in byte.\n",
    "\n",
    "Oltre a stamparne le informazioni via via che li sposti, tieni traccia dei file creando un documento *recap.csv* con le stesse informazioni. \n",
    "\n",
    "La struttura finale della cartella files dovrà essere:\n",
    "\n",
    "        - files            \n",
    "            - audio\n",
    "                - song1.mp3\n",
    "                - song2.mp3\n",
    "            - docs\n",
    "                - ciao.txt\n",
    "                - pippo.odt\n",
    "            - images\n",
    "                - bw.png\n",
    "                - daffodil.jpg\n",
    "                - trump.jpeg    \n",
    "            - recap.csv"
   ]
  },
  {
   "cell_type": "code",
   "execution_count": 14,
   "metadata": {
    "tags": []
   },
   "outputs": [],
   "source": [
    "#importo librerie\n",
    "#step 1\n",
    "import os \n",
    "import shutil\n",
    "import csv\n",
    "#step 3\n",
    "from PIL import Image\n",
    "from tabulate import tabulate\n",
    "import numpy as np"
   ]
  },
  {
   "cell_type": "markdown",
   "metadata": {},
   "source": [
    "Funzione che dato in input il nome del file, e la tipologia:\n",
    "1. stampa le info \n",
    "2. aggiungo le informazioni nel file di recap \n",
    "3. muove il file nella directory giusta "
   ]
  },
  {
   "cell_type": "code",
   "execution_count": 15,
   "metadata": {
    "tags": []
   },
   "outputs": [],
   "source": [
    "def processo_file(file_nome, path, tipo_file):\n",
    "    #divido il file_nome ogni volta che trovo un punto utilizzando la funzione split\n",
    "    nome = file_nome.split(\".\")\n",
    "    #recupero la dimensione del file utlizzando la funzione getsize di os\n",
    "    dimensione = os.path.getsize(os.path.join(path, file_nome))\n",
    "    #creo una var testo che memorizza il nome senza l'estensione, il tipo e la dimensione del file\n",
    "    testo = \"{} tipo:{} dimensioni:{}B \".format(nome[0],tipo_file, dimensione)\n",
    "    #stampo testo con le informazioni\n",
    "    print(testo)\n",
    "    \n",
    "    #scrivo le informazioni nel file racap.csv\n",
    "    scrittura = csv.writer(recap_file)\n",
    "    #scrivo nel file il nome senza l'estensione, il tipo e la dimensione del file utilizzando la funzione writerow\n",
    "    scrittura.writerow([nome[0], \"{}\".format(tipo_file), \"{}\".format(dimensione)])\n",
    "        \n",
    "    #sposto il file utilizzando la funzione move\n",
    "    shutil.move(os.path.join(path, file_nome), os.path.join(path, tipo_file))"
   ]
  },
  {
   "cell_type": "markdown",
   "metadata": {},
   "source": [
    "Itera su i file nella cartella \"files\""
   ]
  },
  {
   "cell_type": "code",
   "execution_count": 16,
   "metadata": {
    "tags": []
   },
   "outputs": [
    {
     "name": "stdout",
     "output_type": "stream",
     "text": [
      "song1 tipo:audio dimensioni:1087849B \n",
      "ciao tipo:docs dimensioni:12B \n",
      "song2 tipo:audio dimensioni:764176B \n",
      ".DS_Store Errore: Estensione non supportata!\n",
      "images Errore: Estensione non supportata!\n",
      "daffodil tipo:images dimensioni:24657B \n",
      "docs Errore: Estensione non supportata!\n",
      "audio Errore: Estensione non supportata!\n",
      "recap.csv Errore: Estensione non supportata!\n",
      "trump tipo:images dimensioni:10195B \n",
      "bw tipo:images dimensioni:94926B \n",
      "pippo tipo:docs dimensioni:8299B \n",
      "eclipse tipo:images dimensioni:64243B \n"
     ]
    }
   ],
   "source": [
    "#variabile che contiene il file della directory\n",
    "directory = \"files\"\n",
    "\n",
    "#creo le cartelle nel caso non esistessero \n",
    "for dirnome in [\"audio\", \"docs\", \"images\"]:\n",
    "    if not os.path.isdir(os.path.join(directory, dirnome)): \n",
    "        #se non esiste la cartella iterata dal for creo la sottocartella di directory con la funzione mkdir\n",
    "        os.mkdir(os.path.join(directory, dirnome))\n",
    "        \n",
    "#creo il file di recap.csv  \n",
    "if not os.path.exists(os.path.join(directory, \"recap.csv\")):  \n",
    "    #se non esiste\n",
    "    recap_file=open(os.path.join(directory, \"recap.csv\"), \"w\")\n",
    "    #creo il file 'w' sta per write \n",
    "    scrittura = csv.writer(recap_file)\n",
    "    #scrivo nel file name, type, size B utilizzando la funzione writerow\n",
    "    scrittura.writerow([\"name\", \"type\", \"size(B)\"])\n",
    "else:\n",
    "    #apro recap        \n",
    "    recap_file=open(os.path.join(directory, \"recap.csv\"), \"a\")\n",
    "    \n",
    "#dizionario estensioni files\n",
    "extension_files = {\n",
    "        '.jpeg': 'images',\n",
    "        '.jpg': 'images',\n",
    "        '.png': 'images',\n",
    "        '.txt': 'docs',\n",
    "        '.odt': 'docs',\n",
    "        '.mp3': 'audio'\n",
    "}\n",
    "        \n",
    "#itero tutti i file delle directory \n",
    "for file in os.listdir(directory):\n",
    "    #separo nome file da estensione \n",
    "    name, ext = os.path.splitext(file)\n",
    "    if ext in extension_files:\n",
    "        path_file = extension_files[ext]\n",
    "        processo_file(file, directory, path_file)\n",
    "    else:\n",
    "        print(file +\" Errore: Estensione non supportata!\")\n",
    "\n",
    "        \n",
    "#chiudo file recap        \n",
    "recap_file.close()"
   ]
  },
  {
   "cell_type": "markdown",
   "metadata": {},
   "source": [
    "**Step 3**\n",
    "\n",
    "Una immagine in scala di grigio ha un solo livello di colore, una RGB ne ha 3, una RGBA 4 (l'ultimo è detto canale alpha).\n",
    "\n",
    "Il modulo Image della libreria PIL permette di caricare un'immagine, che può essere trasformata in un array NumPy attraverso la funzione np.array. A partire da tale array, è possibile capire se l'immagine caricata è in scala di grigio, RGB o RGBA.\n",
    "\n",
    "Aggiungi al notebook dello Step 1 uno script che iteri sulla sottocartella images e costruisca una tabella riassuntiva come questa (prodotta con la libreria tabulate).\n",
    "\n"
   ]
  },
  {
   "cell_type": "code",
   "execution_count": 17,
   "metadata": {},
   "outputs": [
    {
     "name": "stdout",
     "output_type": "stream",
     "text": [
      "╒══════════╤═══════════╤═════════╤═════════════╤════════╤════════╤═══════╤═════════╕\n",
      "│ name     │   heights │   width │   grayscale │      R │      G │     B │   ALPHA │\n",
      "╞══════════╪═══════════╪═════════╪═════════════╪════════╪════════╪═══════╪═════════╡\n",
      "│ daffodil │       500 │     335 │        0.00 │ 109.25 │  85.56 │  4.97 │    0.00 │\n",
      "├──────────┼───────────┼─────────┼─────────────┼────────┼────────┼───────┼─────────┤\n",
      "│ trump    │       183 │     275 │        0.00 │  97.01 │  98.99 │ 90.92 │    0.00 │\n",
      "├──────────┼───────────┼─────────┼─────────────┼────────┼────────┼───────┼─────────┤\n",
      "│ bw       │       512 │     512 │       21.48 │   0.00 │   0.00 │  0.00 │    0.00 │\n",
      "├──────────┼───────────┼─────────┼─────────────┼────────┼────────┼───────┼─────────┤\n",
      "│ eclipse  │       256 │     256 │        0.00 │ 109.05 │ 109.52 │ 39.85 │  133.59 │\n",
      "╘══════════╧═══════════╧═════════╧═════════════╧════════╧════════╧═══════╧═════════╛\n"
     ]
    }
   ],
   "source": [
    "#creo la var directory che identifica la directory images\n",
    "directory_img = \"files/images\"\n",
    "#creo tabella vuota\n",
    "tabella = []\n",
    "\n",
    "#itero i file all'interno della directory\n",
    "for file in os.listdir(directory_img):\n",
    "    #creo e inizializzo a 0 le variabili del colore\n",
    "    grayscale, R, G, B, ALPHA = 0, 0, 0, 0, 0\n",
    "    #apro il file utilizzando la funzione open della libreria Image \n",
    "    img = Image.open(os.path.join(directory_img, file))\n",
    "    #trasformo il file in un array NumPy attraverso la funzione np.array\n",
    "    np_array_img = np.array(img)\n",
    "    #ottengo le dimensioni dell'array\n",
    "    np_array_img_dimensioni = np_array_img.shape\n",
    "    #ottengo il numero di dimensioni\n",
    "    np_array_img_num_dim = len(np_array_img_dimensioni)\n",
    "    #ottengo axis array\n",
    "    np_array_img_axis = np.mean(np_array_img, axis=(0, 1))\n",
    "    #controllo la dimensione dell'array che sto iterando\n",
    "    if np_array_img_num_dim == 3:\n",
    "        if np_array_img_dimensioni[2] == 3:\n",
    "            #assegno i valori corrispondenti alla scala di colori\n",
    "            R, G, B = np_array_img_axis[0], np_array_img_axis[1], np_array_img_axis[2]\n",
    "        elif np_array_img_dimensioni[2] == 4:\n",
    "            #assegno i valori corrispondenti alla scala di colori con ALPHA\n",
    "            R, G, B, ALPHA = np_array_img_axis[0], np_array_img_axis[1], np_array_img_axis[2], np_array_img_axis[3]\n",
    "    elif np_array_img_num_dim == 2:\n",
    "        #assegno il valore corrispondente alla scala di grigio\n",
    "        grayscale = np_array_img_axis\n",
    "    \n",
    "    #divido il nome file ogni volta che trovo un punto utilizzando la funzione split\n",
    "    nome = file.split(\".\")\n",
    "    #appendo infondo alla tabelle i dati del file che sto iterando\n",
    "    tabella.append([nome[0],np_array_img.shape[0], np_array_img.shape[1],grayscale,R,G,B,ALPHA])\n",
    "\n",
    "#stampo la tabella\n",
    "print(tabulate(tabella, \n",
    "               #header\n",
    "               headers = [\"name\", \"heights\", \"width\", \"grayscale\", \"R\", \"G\", \"B\", \"ALPHA\"],\n",
    "               #formato tabella\n",
    "               tablefmt=\"fancy_grid\",\n",
    "               floatfmt=\".2f\")) "
   ]
  },
  {
   "cell_type": "code",
   "execution_count": null,
   "metadata": {},
   "outputs": [],
   "source": []
  }
 ],
 "metadata": {
  "kernelspec": {
   "display_name": "Python 3 (ipykernel)",
   "language": "python",
   "name": "python3"
  },
  "language_info": {
   "codemirror_mode": {
    "name": "ipython",
    "version": 3
   },
   "file_extension": ".py",
   "mimetype": "text/x-python",
   "name": "python",
   "nbconvert_exporter": "python",
   "pygments_lexer": "ipython3",
   "version": "3.11.5"
  }
 },
 "nbformat": 4,
 "nbformat_minor": 4
}
